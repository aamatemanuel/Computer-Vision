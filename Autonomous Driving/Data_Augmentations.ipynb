{
 "cells": [
  {
   "cell_type": "code",
   "execution_count": 32,
   "id": "38b6debd-e298-4e6f-aecc-62fb73961160",
   "metadata": {},
   "outputs": [],
   "source": [
    "import random\n",
    "import cv2\n",
    "import numpy as np\n",
    "import os\n",
    "\n",
    "from matplotlib import pyplot as plt\n",
    "\n",
    "import albumentations as A"
   ]
  },
  {
   "cell_type": "code",
   "execution_count": 33,
   "id": "cf1a7606-1a45-462d-9eaf-5463fd47affc",
   "metadata": {},
   "outputs": [],
   "source": [
    "def visualize(image):\n",
    "    plt.figure(figsize=(2,2))\n",
    "    plt.axis('off')\n",
    "    plt.imshow(image)"
   ]
  },
  {
   "cell_type": "code",
   "execution_count": 34,
   "id": "d809e219-1eb5-4271-aa72-a50d0907e174",
   "metadata": {},
   "outputs": [],
   "source": [
    "# IMPORT IMAGE AND NORMALIZE\n",
    "path = 'C:/Users/manue/Desktop/Student/Thesis/nuScenes_dataSet/patches/color_patches/Augmentation/'\n",
    "image = cv2.imread(os.path.join(path, 'scene-0001.png'))\n",
    "grayscale = cv2.cvtColor(image, cv2.COLOR_BGR2GRAY)\n",
    "grayscale = grayscale/255.\n",
    "\n",
    "image = cv2.cvtColor(image, cv2.COLOR_BGR2RGB)\n",
    "image = image/255."
   ]
  },
  {
   "cell_type": "code",
   "execution_count": 35,
   "id": "7b91102c-64d3-440b-875e-d34113ddbe2f",
   "metadata": {},
   "outputs": [
    {
     "data": {
      "image/png": "[encoded data removed]",
      "text/plain": [
       "<Figure size 400x200 with 2 Axes>"
      ]
     },
     "metadata": {},
     "output_type": "display_data"
    }
   ],
   "source": [
    "# ROTATION\n",
    "transform = A.Rotate(limit=180, p=1.0, border_mode=cv2.BORDER_REPLICATE)\n",
    "scene_name = \"scene-{:04d}\".format(1)\n",
    "\n",
    "# LIMIT TO NO MORE THAN 10 ROTATIONs\n",
    "num_rotations = 5\n",
    "for i in range(num_rotations):\n",
    "    augmented_image = transform(image=image)['image']\n",
    "    # NAME OF THE AUGMENTED IMAGE\n",
    "    scene_augmented = scene_name +'-'+str(i) + '.png'\n",
    "    # DATA TO SAVE ARRAY\n",
    "    # augmented_array = np.float32(255*augmented_image)\n",
    "    augmented_array = np.float32(augmented_image)\n",
    "    augmented_array = cv2.cvtColor(augmented_array, cv2.COLOR_RGB2BGR)\n",
    "    cv2.imwrite(os.path.join(path, scene_augmented), augmented_array)\n",
    "     \n",
    "# augmented_image = np.float32(augmented_image)\n",
    "# grayscale = cv2.cvtColor(augmented_image, cv2.COLOR_RGB2GRAY)\n",
    "\n",
    "fig, ax = plt.subplots(1,2, figsize=(4, 2), sharex=True)\n",
    "ax[0].set_xticks([])\n",
    "ax[0].set_yticks([])\n",
    "ax[1].set_xticks([])\n",
    "ax[1].set_yticks([])\n",
    "\n",
    "ax[0].imshow(image)\n",
    "ax[0].title.set_text('Original')\n",
    "ax[1].imshow(augmented_image)\n",
    "ax[1].title.set_text('Transformed')"
   ]
  },
  {
   "cell_type": "markdown",
   "id": "3cf6c1c3-b368-4212-88bf-b1fbec388abc",
   "metadata": {},
   "source": [
    "## Morphological transformations"
   ]
  },
  {
   "cell_type": "code",
   "execution_count": 36,
   "id": "0195c249-3b7b-42be-a757-6ad93d70de67",
   "metadata": {},
   "outputs": [],
   "source": [
    "# SPLITTING INTO CHANNELS\n",
    "red = image[:,:,0]\n",
    "green = image[:,:,1]\n",
    "blue = image[:,:,2]\n",
    "\n",
    "# MORPHOLOGICAL TRANSFORMATION\n",
    "kernel = np.ones((5,5),np.uint8)\n",
    "red_dilated = cv2.erode(red,kernel,iterations = 1)\n",
    "green_dilated = cv2.erode(green,kernel,iterations = 1)\n",
    "blue_dilated = cv2.erode(blue,kernel,iterations = 1)\n",
    "\n",
    "new_image = np.dstack((red_dilated,green_dilated,blue_dilated))"
   ]
  },
  {
   "cell_type": "code",
   "execution_count": 37,
   "id": "5b6d9c0a-ee7b-4d39-89c9-de60f03f9273",
   "metadata": {},
   "outputs": [
    {
     "data": {
      "text/plain": [
       "<matplotlib.image.AxesImage at 0x2b6b3694f48>"
      ]
     },
     "execution_count": 37,
     "metadata": {},
     "output_type": "execute_result"
    },
    {
     "data": {
      "image/png": "[encoded data removed]",
      "text/plain": [
       "<Figure size 600x200 with 3 Axes>"
      ]
     },
     "metadata": {},
     "output_type": "display_data"
    },
    {
     "data": {
      "image/png": "[encoded data removed]",
      "text/plain": [
       "<Figure size 600x200 with 3 Axes>"
      ]
     },
     "metadata": {},
     "output_type": "display_data"
    }
   ],
   "source": [
    "# PLOT FOR NORMAL CHANNELS\n",
    "fig, ax = plt.subplots(1,3, figsize=(6, 2), sharex=True)\n",
    "ax[0].set_xticks([])\n",
    "ax[0].set_yticks([])\n",
    "ax[1].set_xticks([])\n",
    "ax[1].set_yticks([])\n",
    "ax[2].set_xticks([])\n",
    "ax[2].set_yticks([])\n",
    "\n",
    "ax[0].imshow(red, cmap='gray')\n",
    "ax[0].title.set_text('R')\n",
    "ax[1].imshow(green, cmap='gray')\n",
    "ax[1].title.set_text('G')\n",
    "ax[2].imshow(blue, cmap='gray')\n",
    "ax[2].title.set_text('B')\n",
    "\n",
    "# PLOT FOR DILATION\n",
    "fig, ax = plt.subplots(1,3, figsize=(6, 2), sharex=True)\n",
    "ax[0].set_xticks([])\n",
    "ax[0].set_yticks([])\n",
    "ax[1].set_xticks([])\n",
    "ax[1].set_yticks([])\n",
    "ax[2].set_xticks([])\n",
    "ax[2].set_yticks([])\n",
    "\n",
    "ax[0].imshow(red_dilated, cmap='gray')\n",
    "ax[1].imshow(green_dilated, cmap='gray')\n",
    "ax[2].imshow(blue_dilated, cmap='gray')"
   ]
  },
  {
   "cell_type": "code",
   "execution_count": 38,
   "id": "9b8ad909-e5dd-4e8c-af5c-2b61f0704409",
   "metadata": {},
   "outputs": [
    {
     "data": {
      "image/png": "[encoded data removed]",
      "text/plain": [
       "<Figure size 400x200 with 2 Axes>"
      ]
     },
     "metadata": {},
     "output_type": "display_data"
    }
   ],
   "source": [
    "# COMPARISON: ORIGINAL VS DILATED\n",
    "fig, ax = plt.subplots(1,2, figsize=(4, 2), sharex=True)\n",
    "ax[0].set_xticks([])\n",
    "ax[0].set_yticks([])\n",
    "ax[1].set_xticks([])\n",
    "ax[1].set_yticks([])\n",
    "\n",
    "ax[0].imshow(image)\n",
    "ax[0].title.set_text('Original')\n",
    "ax[1].imshow(new_image)\n",
    "ax[1].title.set_text('Dilated')"
   ]
  },
  {
   "cell_type": "markdown",
   "id": "ddbada35-5f50-4cb6-86a7-463c824ae62d",
   "metadata": {},
   "source": [
    "### Translations"
   ]
  },
  {
   "cell_type": "code",
   "execution_count": 46,
   "id": "3b7edea3-c299-4efc-84a4-e21193514b12",
   "metadata": {},
   "outputs": [
    {
     "name": "stdout",
     "output_type": "stream",
     "text": [
      "40\n"
     ]
    }
   ],
   "source": [
    "h, w = grayscale.shape\n",
    "offset = 3\n",
    "tolerance = 5\n",
    "\n",
    "# TOP EDGE\n",
    "for t in range(h):\n",
    "    row = grayscale[t].tolist()\n",
    "    row.sort()\n",
    "    if row[0] != 1:\n",
    "        break\n",
    "\n",
    "if t > tolerance:\n",
    "    t = t - offset\n",
    "print(t)\n",
    "translated_top = image[t:, :, :]\n",
    "additional_rows = np.ones((t, w, 3))\n",
    "translation_top = np.concatenate((translated_top, additional_rows))"
   ]
  },
  {
   "cell_type": "code",
   "execution_count": 47,
   "id": "c63dfed0-88b1-433e-84ef-a00900dc7e7d",
   "metadata": {},
   "outputs": [
    {
     "name": "stdout",
     "output_type": "stream",
     "text": [
      "39\n"
     ]
    }
   ],
   "source": [
    "# BOTTOM EDGE\n",
    "for b in range(h):\n",
    "    row = grayscale[h-(b+1)].tolist()\n",
    "    row.sort()\n",
    "    if row[0] != 1:\n",
    "        break\n",
    "if b > tolerance:\n",
    "    b = b - offset\n",
    "print(b)\n",
    "\n",
    "limit = h-b\n",
    "translated_bot = image[:limit, :, :]\n",
    "additional_rows = np.ones((b, w, 3))\n",
    "translation_bot = np.concatenate((additional_rows,translated_bot))"
   ]
  },
  {
   "cell_type": "code",
   "execution_count": 48,
   "id": "9f9e6c98-d3a6-449a-a10c-c440157dc1ec",
   "metadata": {},
   "outputs": [
    {
     "name": "stdout",
     "output_type": "stream",
     "text": [
      "4\n"
     ]
    }
   ],
   "source": [
    "# LEFT EDGE\n",
    "for l in range(w):\n",
    "    column = grayscale[:,l].tolist()\n",
    "    column.sort()\n",
    "    if column[0] != 1:\n",
    "        break\n",
    "if l > tolerance:\n",
    "    l = l - offset\n",
    "print(l)\n",
    "translated_left = image[:,l:, :]\n",
    "additional_columns = np.ones((h, l, 3))\n",
    "translation_left = np.column_stack((translated_left, additional_columns))"
   ]
  },
  {
   "cell_type": "code",
   "execution_count": 49,
   "id": "2724e849-ba3b-4721-8804-9246650c16fd",
   "metadata": {},
   "outputs": [
    {
     "name": "stdout",
     "output_type": "stream",
     "text": [
      "3\n"
     ]
    }
   ],
   "source": [
    "# RIGHT EDGE \n",
    "for r in range(w):\n",
    "    column = grayscale[:,w-(r+1)].tolist()\n",
    "    column.sort()\n",
    "    if column[0] != 1:\n",
    "        break\n",
    "if r > tolerance:\n",
    "    r = r - offset\n",
    "print(r)\n",
    "limit = w - r\n",
    "translated_right = image[:,:limit, :]\n",
    "additional_columns = np.ones((h, r, 3))\n",
    "translation_right = np.column_stack((additional_columns, translated_right))"
   ]
  },
  {
   "cell_type": "code",
   "execution_count": 50,
   "id": "d49d8488-6b7e-4eef-a784-48d17ce1d7c0",
   "metadata": {},
   "outputs": [
    {
     "data": {
      "image/png": "[encoded data removed]",
      "text/plain": [
       "<Figure size 1000x200 with 5 Axes>"
      ]
     },
     "metadata": {},
     "output_type": "display_data"
    }
   ],
   "source": [
    "fig, ax = plt.subplots(1,5, figsize=(10, 2), sharex=True)\n",
    "ax[0].set_xticks([])\n",
    "ax[0].set_yticks([])\n",
    "ax[1].set_xticks([])\n",
    "ax[1].set_yticks([])\n",
    "ax[2].set_xticks([])\n",
    "ax[2].set_yticks([])\n",
    "ax[3].set_xticks([])\n",
    "ax[3].set_yticks([])\n",
    "ax[4].set_xticks([])\n",
    "ax[4].set_yticks([])\n",
    "\n",
    "ax[0].imshow(image)\n",
    "ax[0].title.set_text('Original')\n",
    "ax[1].imshow(translation_top)\n",
    "ax[1].title.set_text('Top')\n",
    "ax[2].imshow(translation_bot)\n",
    "ax[2].title.set_text('Bot')\n",
    "ax[3].imshow(translation_left)\n",
    "ax[3].title.set_text('Left')\n",
    "ax[4].imshow(translation_right)\n",
    "ax[4].title.set_text('Right')"
   ]
  }
 ],
 "metadata": {
  "kernelspec": {
   "display_name": "Python 3 (ipykernel)",
   "language": "python",
   "name": "python3"
  },
  "language_info": {
   "codemirror_mode": {
    "name": "ipython",
    "version": 3
   },
   "file_extension": ".py",
   "mimetype": "text/x-python",
   "name": "python",
   "nbconvert_exporter": "python",
   "pygments_lexer": "ipython3",
   "version": "3.7.13"
  }
 },
 "nbformat": 4,
 "nbformat_minor": 5
}
