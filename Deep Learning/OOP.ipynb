{
 "cells": [
  {
   "cell_type": "markdown",
   "id": "20c67a9d-e2e9-49eb-aeb6-ecfa11188f53",
   "metadata": {},
   "source": [
    "Object-oriented programming (OOP) is a method of structuring a program by bundling related properties and behaviors into individual objects. It is a programming paradigm that provides a means of structuring programs so that properties and behaviors are bundled into individual objects.\n",
    "\n",
    "For instance, an object could represent a person with properties like a name, age, and address and behaviors such as walking, talking, breathing, and running. Or it could represent an email with properties like a recipient list, subject, and body and behaviors like adding attachments and sending.\n",
    "\n",
    "**Resources**:\n",
    "1. [OOP Role Playing game](https://inventwithpython.com/blog/2014/12/02/why-is-object-oriented-programming-useful-with-a-role-playing-game-example/).\n",
    "2. [OOP in Python 3 / Real Python](https://realpython.com/python3-object-oriented-programming/)"
   ]
  },
  {
   "cell_type": "markdown",
   "id": "3cb3cfa6-6088-4080-b9ed-a8fda1471012",
   "metadata": {},
   "source": [
    "## 1. Class definition\n",
    "lLet’s say you want to track employees in an organization. You need to store some basic information about each employee, such as their name, age, position, and the year they started working."
   ]
  },
  {
   "cell_type": "code",
   "execution_count": 1,
   "id": "81d9162c-c958-414a-a95b-3dee2c62f5d9",
   "metadata": {},
   "outputs": [],
   "source": [
    "kirk = [\"James Kirk\", 34, \"Captain\", 2265]\n",
    "spock = [\"Spock\", 35, \"Science Officer\", 2254]\n",
    "mccoy = [\"Leonard McCoy\", \"Chief Medical Officer\", 2266]"
   ]
  },
  {
   "cell_type": "markdown",
   "id": "853cf5c1-7883-475c-a701-01dfe77a89e7",
   "metadata": {},
   "source": [
    "Problems:\n",
    "- If you reference `kirk[0]` several lines away from where the kirk list is declared, will you remember that the element with index 0 is the employee’s name?\n",
    "- It can introduce errors if not every employee has the same number of elements in the list. In the mccoy list above, the age is missing, so `mccoy[1]` will return \"Chief Medical Officer\" instead of Dr. McCoy’s age."
   ]
  },
  {
   "cell_type": "markdown",
   "id": "87cf8db7-e360-4cb2-b704-fd45ee557275",
   "metadata": {
    "tags": []
   },
   "source": [
    "### 1.1. Classes VS Instances\n",
    "Classes are used to create user-defined data structures. You’ll create a Dog class that stores some information about the characteristics and behaviors that an individual dog can have.  \n",
    "A class is a blueprint for how something should be defined. It doesn’t actually contain any data. The Dog class specifies that a name and an age are necessary for defining a dog, but it doesn’t contain the name or age of any specific dog.\n",
    "\n",
    "While the class is the blueprint, an **instance** is an object that is built from a class and contains real data. \n",
    "> Note: Python class names are written in CapitalizedWords notation by convention. "
   ]
  },
  {
   "cell_type": "code",
   "execution_count": 3,
   "id": "76c8c135-869a-49fe-9198-21db5d7ea889",
   "metadata": {},
   "outputs": [],
   "source": [
    "class Dog:\n",
    "    pass"
   ]
  },
  {
   "cell_type": "markdown",
   "id": "9c30cd30-06a9-423d-93b8-1893f6ab5c36",
   "metadata": {},
   "source": [
    "You create two new Dog objects and assign them to the variables a and b. When you compare a and b using the == operator, the result is False. Even though a and b are both instances of the Dog class, they represent two distinct objects in memory."
   ]
  },
  {
   "cell_type": "code",
   "execution_count": 5,
   "id": "ec24b9e8-79b0-4bbf-a266-b8540ec48d17",
   "metadata": {},
   "outputs": [
    {
     "data": {
      "text/plain": [
       "False"
      ]
     },
     "execution_count": 5,
     "metadata": {},
     "output_type": "execute_result"
    }
   ],
   "source": [
    "a = Dog()\n",
    "b = Dog()\n",
    "a == b"
   ]
  },
  {
   "cell_type": "markdown",
   "id": "4441f9b9-50da-42d0-ab75-45fc28c37a14",
   "metadata": {},
   "source": [
    "The properties that all Dog objects must have are defined in a method called `.__init__()`. Every time a new Dog object is created, `.__init__()` sets the initial state of the object by assigning the values of the object’s properties.\n",
    "\n",
    "You can give any number of parameters, but the first parameter will always be a variable called **self**. When a new class instance is created, the instance is automatically passed to the self parameter in .__init__() so that new attributes can be defined on the object.\n",
    "\n",
    "- `self.name`: Creates an attribute called name, and assignts to it the value of the `name` parameter.\n",
    "- `self.age`: Creates an attribute called age, and assignts to it the value of the `age` parameter.\n",
    "\n",
    "> INSTANCE ATTRIBUTES:\n",
    "> The value is specific to a particular instance\n",
    "> It is created in .__init__()\n",
    "\n",
    "> CLASS ATTRIBUTES:\n",
    "> Attributes that have the same value for all instances\n",
    "> Variable outside of .__init__()"
   ]
  },
  {
   "cell_type": "code",
   "execution_count": 6,
   "id": "2581ee77-cec9-4b31-a03b-70dfb107dfd0",
   "metadata": {},
   "outputs": [],
   "source": [
    "class Dog:\n",
    "    # CLASS ATTRIBUTE\n",
    "    species = \"Canis familiaris\"\n",
    "    \n",
    "    def __init__(self, name, age):\n",
    "        # INSTANCE ATTRIBUTES\n",
    "        self.name = name\n",
    "        self.age = age"
   ]
  },
  {
   "cell_type": "code",
   "execution_count": 7,
   "id": "ab0b9a3b-4d44-478d-9019-5d9a5ec637a0",
   "metadata": {},
   "outputs": [],
   "source": [
    "buddy = Dog(\"Buddy\", 9)\n",
    "miles = Dog(\"Miles\", 4)"
   ]
  },
  {
   "cell_type": "markdown",
   "id": "d466e694-b7a7-4a0f-bad6-b8594a146c44",
   "metadata": {},
   "source": [
    "When you instantiate a Dog object, Python creates a new instance and passes it to the first parameter of .__init__(). This essentially removes the self parameter, so you only need to worry about the name and age parameters."
   ]
  },
  {
   "cell_type": "code",
   "execution_count": 11,
   "id": "6c77bb78-82d2-4ecd-8662-6147fca284dd",
   "metadata": {},
   "outputs": [
    {
     "name": "stdout",
     "output_type": "stream",
     "text": [
      "Buddy 9 Canis familiaris\n"
     ]
    }
   ],
   "source": [
    "# You can access the instance attribute using dot notation\n",
    "print(buddy.name, buddy.age, buddy.species)"
   ]
  },
  {
   "cell_type": "code",
   "execution_count": 12,
   "id": "1ed2ee47-881a-4e5d-aac7-d3d5a51e24b3",
   "metadata": {},
   "outputs": [
    {
     "name": "stdout",
     "output_type": "stream",
     "text": [
      "Buddy 10 Canis familiaris\n"
     ]
    }
   ],
   "source": [
    "# The attributes can be changed dynamically\n",
    "buddy.age = 10\n",
    "print(buddy.name, buddy.age, buddy.species)"
   ]
  },
  {
   "cell_type": "markdown",
   "id": "d333e2b1-8b7b-48a7-85ba-0cfa57498654",
   "metadata": {},
   "source": [
    "### 1.2. Instance Methods\n",
    "There are functions that are defined inside a class and can only be called from an instance of that class. Just like `.__init__()`, an instance method’s first parameter is always self.\n",
    "This Dog class has two instance methods:\n",
    "- `description()` returns a string displaying the name and age of the dog.\n",
    "- `speak()` has one parameter called sound and returns a string containing the dog’s name and the sound the dog makes."
   ]
  },
  {
   "cell_type": "code",
   "execution_count": 13,
   "id": "8b178637-fe36-4699-80ee-8a89fcf816bc",
   "metadata": {},
   "outputs": [],
   "source": [
    "class Dog:\n",
    "    species = \"Canis familiaris\"\n",
    "\n",
    "    def __init__(self, name, age):\n",
    "        self.name = name\n",
    "        self.age = age\n",
    "\n",
    "    # Instance method\n",
    "    def description(self):\n",
    "        return f\"{self.name} is {self.age} years old\"\n",
    "\n",
    "    # Another instance method\n",
    "    def speak(self, sound):\n",
    "        return f\"{self.name} says {sound}\""
   ]
  },
  {
   "cell_type": "code",
   "execution_count": 16,
   "id": "19de7776-7a7a-45cb-9b49-d480c40c8667",
   "metadata": {},
   "outputs": [
    {
     "name": "stdout",
     "output_type": "stream",
     "text": [
      "Miles is 4 years old\n",
      "Miles says woof woof\n"
     ]
    }
   ],
   "source": [
    "# CREATE THE INSTANCE\n",
    "miles = Dog(\"Miles\", 4)\n",
    "print(miles.description())\n",
    "print(miles.speak(\"woof woof\"))"
   ]
  },
  {
   "cell_type": "markdown",
   "id": "21ed1afa-8c22-4cae-b5f1-372f21128281",
   "metadata": {},
   "source": [
    "When writing your own classes, it’s a good idea to have a method that returns a string containing useful information about an instance of the class. When you create a list object, you can use `print()` to display, but if you print and object, you don't get useful information. This message isn’t very helpful. You can change what gets printed by defining a special instance method called `.__str__()`.\n",
    "\n",
    "> Methods like `.__init__()` and `.__str__()` are called **dunder methods** because they begin and end with double underscores. There are many dunder methods that you can use to customize classes in Python. "
   ]
  },
  {
   "cell_type": "code",
   "execution_count": 17,
   "id": "de4eb985-d682-4449-8d68-945738903120",
   "metadata": {},
   "outputs": [
    {
     "name": "stdout",
     "output_type": "stream",
     "text": [
      "<__main__.Dog object at 0x0000017443D8BC88>\n"
     ]
    }
   ],
   "source": [
    "print(miles)"
   ]
  },
  {
   "cell_type": "code",
   "execution_count": 19,
   "id": "7089bfee-40f3-4050-b503-e40bc3dfafb4",
   "metadata": {},
   "outputs": [
    {
     "name": "stdout",
     "output_type": "stream",
     "text": [
      "Miles is 4 years old\n"
     ]
    }
   ],
   "source": [
    "class Dog:\n",
    "    species = \"Canis familiaris\"\n",
    "\n",
    "    def __init__(self, name, age):\n",
    "        self.name = name\n",
    "        self.age = age\n",
    "\n",
    "    # Instance method\n",
    "    def __str__(self):\n",
    "        return f\"{self.name} is {self.age} years old\"\n",
    "\n",
    "    # Another instance method\n",
    "    def speak(self, sound):\n",
    "        return f\"{self.name} says {sound}\"\n",
    "\n",
    "miles = Dog(\"Miles\", 4)\n",
    "print(miles)"
   ]
  },
  {
   "cell_type": "code",
   "execution_count": 22,
   "id": "20818716-8433-4100-9d4b-b774edb56041",
   "metadata": {},
   "outputs": [],
   "source": [
    "# EXAMPLE 2\n",
    "class Car:\n",
    "\n",
    "    def __init__(self, color, mileage):\n",
    "        self.color = color\n",
    "        self.mileage = mileage\n",
    "\n",
    "    # Instance method\n",
    "    def __str__(self):\n",
    "        return f\"The {self.color} car has {self.mileage} miles\"\n"
   ]
  },
  {
   "cell_type": "code",
   "execution_count": 21,
   "id": "c0173f94-79aa-48bb-881f-c33ab32d45ce",
   "metadata": {},
   "outputs": [
    {
     "name": "stdout",
     "output_type": "stream",
     "text": [
      "The blue car has 20000 miles\n",
      "The red car has 30000 miles\n"
     ]
    }
   ],
   "source": [
    "blue_car = Car(\"blue\", 20000)\n",
    "red_car = Car(\"red\", 30000)\n",
    "print(blue_car)\n",
    "print(red_car)"
   ]
  },
  {
   "cell_type": "markdown",
   "id": "0f19a2e3-8b7e-4f4a-9bfc-34c8bcfe1906",
   "metadata": {},
   "source": [
    "### 1.3. Inheritance\n",
    "It is the process by which one class takes on the attributes and methods of another. Newly formed classes are called _child classes_, and the classes that child classes are derived from are called _parent classes_.  \n",
    "Child classes inherit all of the parent’s attributes and methods but can also specify attributes and methods that are unique to themselves.\n",
    "\n",
    "> EXAMPLE: You may have inherited your hair color from your mother. It’s an attribute you were born with. Let’s say you decide to color your hair purple. Assuming your mother doesn’t have purple hair, you’ve just overridden the hair color attribute that you inherited from your mom.\n",
    ">\n",
    ">You also inherit, in a sense, your language from your parents. If your parents speak English, then you’ll also speak English. Now imagine you decide to learn a second language, like German. In this case you’ve extended your attributes because you’ve added an attribute that your parents don’t have."
   ]
  },
  {
   "cell_type": "code",
   "execution_count": 25,
   "id": "635247d0-2113-42ae-a3b8-ea27ba2a2042",
   "metadata": {},
   "outputs": [],
   "source": [
    "class Dog:\n",
    "    species = \"Canis familiaris\"\n",
    "\n",
    "    def __init__(self, name, age, breed):\n",
    "        self.name = name\n",
    "        self.age = age\n",
    "        self.breed = breed\n",
    "        \n",
    "    # Instance method\n",
    "    def __str__(self):\n",
    "        return f\"{self.name} is {self.age} years old\"\n",
    "\n",
    "    # Another instance method\n",
    "    def speak(self, sound):\n",
    "        return f\"{self.name} says {sound}\""
   ]
  },
  {
   "cell_type": "markdown",
   "id": "3751de59-c41f-4540-8228-0cefa15fd5e0",
   "metadata": {},
   "source": [
    "Each breed of dog has slightly different behaviors. For example, bulldogs have a low bark that sounds like woof, but dachshunds have a higher-pitched bark that sounds more like yap.\n",
    "\n",
    "Using just the Dog class, you must supply a string for the sound argument of .speak() every time you call it on a Dog instance:"
   ]
  },
  {
   "cell_type": "code",
   "execution_count": 26,
   "id": "7b06f17a-e6e8-4af2-93a7-06d489ed91d1",
   "metadata": {},
   "outputs": [],
   "source": [
    "miles = Dog(\"Miles\", 4, \"Jack Russell Terrier\")\n",
    "buddy = Dog(\"Buddy\", 9, \"Dachshund\")\n",
    "jack = Dog(\"Jack\", 3, \"Bulldog\")\n",
    "jim = Dog(\"Jim\", 5, \"Bulldog\")"
   ]
  },
  {
   "cell_type": "code",
   "execution_count": 27,
   "id": "fd038cc8-2567-4d90-a7e4-b67598e58283",
   "metadata": {},
   "outputs": [
    {
     "name": "stdout",
     "output_type": "stream",
     "text": [
      "Buddy says Yap\n",
      "Jim says Woof\n"
     ]
    }
   ],
   "source": [
    "print(buddy.speak(\"Yap\"))\n",
    "print(jim.speak(\"Woof\"))"
   ]
  },
  {
   "cell_type": "markdown",
   "id": "2e371747-05ec-4289-a51f-6ee6aa5f2556",
   "metadata": {},
   "source": [
    "Passing a string to every call to .speak() is repetitive and inconvenient. Moreover, the string representing the sound that each Dog instance makes should be determined by its .breed attribute, but here you have to manually pass the correct string to .speak() every time it’s called.\n",
    "\n",
    "You can simplify the experience of working with the Dog class by creating a child class for each breed of dog. This allows you to extend the functionality that each child class inherits"
   ]
  },
  {
   "cell_type": "markdown",
   "id": "0499fe82-9635-49e0-987b-3ea15c9a6492",
   "metadata": {},
   "source": [
    "### 1.4. Parent and Child\n",
    "To create a child class, you create new class with its own name and then put the name of the parent class in parentheses. "
   ]
  },
  {
   "cell_type": "code",
   "execution_count": 29,
   "id": "2c3f3687-0b82-4a70-bdd6-2baa24bcc406",
   "metadata": {},
   "outputs": [],
   "source": [
    "class Dog:\n",
    "    species = \"Canis familiaris\"\n",
    "\n",
    "    def __init__(self, name, age):\n",
    "        self.name = name\n",
    "        self.age = age\n",
    "\n",
    "    def __str__(self):\n",
    "        return f\"{self.name} is {self.age} years old\"\n",
    "\n",
    "    def speak(self, sound):\n",
    "        return f\"{self.name} says {sound}\"\n",
    "\n",
    "class JackRussellTerrier(Dog):\n",
    "    pass\n",
    "\n",
    "class Dachshund(Dog):\n",
    "    pass\n",
    "\n",
    "class Bulldog(Dog):\n",
    "    pass"
   ]
  },
  {
   "cell_type": "code",
   "execution_count": 32,
   "id": "2c127be7-9fcd-4b9f-b85a-d76e51bfc0c9",
   "metadata": {},
   "outputs": [],
   "source": [
    "# Instances of child classes inherit all of the attributes and methods of the parent class\n",
    "miles = JackRussellTerrier(\"Miles\", 4)\n",
    "buddy = Dachshund(\"Buddy\", 9)\n",
    "jack = Bulldog(\"Jack\", 3)\n",
    "jim = Bulldog(\"Jim\", 5)"
   ]
  },
  {
   "cell_type": "code",
   "execution_count": 35,
   "id": "0286a8e5-5577-414b-af9d-ecbd93bd8eca",
   "metadata": {},
   "outputs": [
    {
     "name": "stdout",
     "output_type": "stream",
     "text": [
      "Canis familiaris\n",
      "Buddy\n",
      "Jack is 3 years old\n",
      "Jim says Woof\n",
      "<class '__main__.JackRussellTerrier'>\n"
     ]
    },
    {
     "data": {
      "text/plain": [
       "True"
      ]
     },
     "execution_count": 35,
     "metadata": {},
     "output_type": "execute_result"
    }
   ],
   "source": [
    "print(miles.species)\n",
    "print(buddy.name)\n",
    "print(jack)\n",
    "print(jim.speak(\"Woof\"))\n",
    "\n",
    "# To determine which class a given object belongs to\n",
    "print(type(miles))\n",
    "\n",
    "# If you want to determine if miles is also an instance of the Dog class\n",
    "isinstance(miles, Dog)"
   ]
  },
  {
   "cell_type": "markdown",
   "id": "4a0bea5a-8087-4d9f-85dd-f915803d9aa3",
   "metadata": {},
   "source": [
    "Since different breeds of dogs have slightly different barks, you want to provide a default value for the sound argument of their respective .speak() methods. To override a method defined on the parent class, you define a method with the same name on the child class."
   ]
  },
  {
   "cell_type": "code",
   "execution_count": 40,
   "id": "6d354fe9-f998-42e9-a648-d147f2fb708a",
   "metadata": {},
   "outputs": [],
   "source": [
    "class Dog:\n",
    "    species = \"Canis familiaris\"\n",
    "\n",
    "    def __init__(self, name, age):\n",
    "        self.name = name\n",
    "        self.age = age\n",
    "\n",
    "    def __str__(self):\n",
    "        return f\"{self.name} is {self.age} years old\"\n",
    "\n",
    "    def speak(self, sound):\n",
    "        return f\"{self.name} barks: {sound}\"\n",
    "\n",
    "class JackRussellTerrier(Dog):\n",
    "    def speak(self, sound=\"Arf\"):\n",
    "        return f\"{self.name} says {sound}\"\n",
    "\n",
    "\n",
    "class Dachshund(Dog):\n",
    "    pass\n",
    "\n",
    "class Bulldog(Dog):\n",
    "    pass"
   ]
  },
  {
   "cell_type": "code",
   "execution_count": 39,
   "id": "dfbdcfe4-6e4f-471e-a07a-2bb40e15a7d2",
   "metadata": {},
   "outputs": [
    {
     "name": "stdout",
     "output_type": "stream",
     "text": [
      "Miles says Arf\n",
      "Miles says Grrr\n"
     ]
    }
   ],
   "source": [
    "miles = JackRussellTerrier(\"Miles\", 4)\n",
    "print(miles.speak())\n",
    "\n",
    "# A sound was defined by default, but it can be cahnged\n",
    "print(miles.speak(\"Grrr\"))"
   ]
  },
  {
   "cell_type": "markdown",
   "id": "76c75d88-73f8-4677-98f3-31fa538125d1",
   "metadata": {},
   "source": [
    "Sometimes it makes sense to completely override a method from a parent class. But in this instance, we don’t want the JackRussellTerrier class to lose any changes that might be made to the formatting of the output string of Dog.speak().\n",
    "\n",
    "In other words, you override in order to don't pass always an argument for an specific breed, so you can keep the formatof the parent class, using the method `super()` "
   ]
  },
  {
   "cell_type": "code",
   "execution_count": 41,
   "id": "00bd1682-8308-4740-afa9-4b2675f0ec8b",
   "metadata": {},
   "outputs": [],
   "source": [
    "class Dog:\n",
    "    species = \"Canis familiaris\"\n",
    "\n",
    "    def __init__(self, name, age):\n",
    "        self.name = name\n",
    "        self.age = age\n",
    "\n",
    "    def __str__(self):\n",
    "        return f\"{self.name} is {self.age} years old\"\n",
    "\n",
    "    def speak(self, sound):\n",
    "        return f\"{self.name} barks: {sound}\"\n",
    "\n",
    "class JackRussellTerrier(Dog):\n",
    "    def speak(self, sound=\"Arf\"):\n",
    "        return super().speak(sound)\n",
    "\n",
    "\n",
    "class Dachshund(Dog):\n",
    "    pass\n",
    "\n",
    "class Bulldog(Dog):\n",
    "    pass"
   ]
  },
  {
   "cell_type": "code",
   "execution_count": 42,
   "id": "fa972080-a332-49db-914e-da322d48dd7b",
   "metadata": {},
   "outputs": [
    {
     "data": {
      "text/plain": [
       "'Miles barks: Arf'"
      ]
     },
     "execution_count": 42,
     "metadata": {},
     "output_type": "execute_result"
    }
   ],
   "source": [
    "miles = JackRussellTerrier(\"Miles\", 4)\n",
    "miles.speak()"
   ]
  }
 ],
 "metadata": {
  "kernelspec": {
   "display_name": "Python 3 (ipykernel)",
   "language": "python",
   "name": "python3"
  },
  "language_info": {
   "codemirror_mode": {
    "name": "ipython",
    "version": 3
   },
   "file_extension": ".py",
   "mimetype": "text/x-python",
   "name": "python",
   "nbconvert_exporter": "python",
   "pygments_lexer": "ipython3",
   "version": "3.7.13"
  }
 },
 "nbformat": 4,
 "nbformat_minor": 5
}
